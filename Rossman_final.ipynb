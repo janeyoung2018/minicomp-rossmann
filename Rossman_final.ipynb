{
 "cells": [
  {
   "cell_type": "code",
   "execution_count": 1,
   "metadata": {},
   "outputs": [],
   "source": [
    "import numpy as np\n",
    "import pandas as pd\n",
    "import xgboost as xgb\n",
    "import math\n",
    "import pdb\n",
    "import sklearn as sk\n",
    "from cleandata import cleanData\n",
    "from sklearn.model_selection import train_test_split\n",
    "import pickle"
   ]
  },
  {
   "cell_type": "markdown",
   "metadata": {},
   "source": [
    "## Import Data from CSV"
   ]
  },
  {
   "cell_type": "code",
   "execution_count": 2,
   "metadata": {},
   "outputs": [],
   "source": [
    "store_CSV = pd.read_csv('data/store.csv')\n",
    "train_CSV = pd.read_csv('data/train.csv', low_memory=False)"
   ]
  },
  {
   "cell_type": "code",
   "execution_count": 3,
   "metadata": {},
   "outputs": [],
   "source": [
    "data = train_CSV.join(store_CSV.set_index('Store'), on='Store')"
   ]
  },
  {
   "cell_type": "code",
   "execution_count": 4,
   "metadata": {},
   "outputs": [],
   "source": [
    "train_raw, test_raw = train_test_split(data, test_size=0.2, random_state=42)"
   ]
  },
  {
   "cell_type": "code",
   "execution_count": 5,
   "metadata": {},
   "outputs": [
    {
     "data": {
      "text/plain": [
       "((510219, 18), (127555, 18))"
      ]
     },
     "execution_count": 5,
     "metadata": {},
     "output_type": "execute_result"
    }
   ],
   "source": [
    "train_raw.shape, test_raw.shape"
   ]
  },
  {
   "cell_type": "markdown",
   "metadata": {
    "jupyter": {
     "source_hidden": true
    }
   },
   "source": [
    "## Clean Train Data by module cleandata"
   ]
  },
  {
   "cell_type": "code",
   "execution_count": 6,
   "metadata": {
    "collapsed": true,
    "jupyter": {
     "outputs_hidden": true,
     "source_hidden": true
    }
   },
   "outputs": [
    {
     "name": "stdout",
     "output_type": "stream",
     "text": [
      "Clean Train Data\n",
      "Dropped rows without store-ids\n"
     ]
    },
    {
     "name": "stderr",
     "output_type": "stream",
     "text": [
      "/home/mirko/anaconda3/envs/dsr/lib/python3.6/site-packages/pandas/core/indexing.py:376: SettingWithCopyWarning: \n",
      "A value is trying to be set on a copy of a slice from a DataFrame.\n",
      "Try using .loc[row_indexer,col_indexer] = value instead\n",
      "\n",
      "See the caveats in the documentation: http://pandas.pydata.org/pandas-docs/stable/user_guide/indexing.html#returning-a-view-versus-a-copy\n",
      "  self.obj[key] = _infer_fill_value(value)\n",
      "/home/mirko/anaconda3/envs/dsr/lib/python3.6/site-packages/pandas/core/indexing.py:494: SettingWithCopyWarning: \n",
      "A value is trying to be set on a copy of a slice from a DataFrame.\n",
      "Try using .loc[row_indexer,col_indexer] = value instead\n",
      "\n",
      "See the caveats in the documentation: http://pandas.pydata.org/pandas-docs/stable/user_guide/indexing.html#returning-a-view-versus-a-copy\n",
      "  self.obj[item] = s\n"
     ]
    },
    {
     "name": "stdout",
     "output_type": "stream",
     "text": [
      "Extracted year, month and day from Date\n",
      "Extracted and reset day of week\n"
     ]
    },
    {
     "name": "stderr",
     "output_type": "stream",
     "text": [
      "/home/mirko/git/minicomp-rossman/cleandata.py:36: SettingWithCopyWarning: \n",
      "A value is trying to be set on a copy of a slice from a DataFrame\n",
      "\n",
      "See the caveats in the documentation: http://pandas.pydata.org/pandas-docs/stable/user_guide/indexing.html#returning-a-view-versus-a-copy\n",
      "  df['Sales'][i] = 0\n",
      "/home/mirko/anaconda3/envs/dsr/lib/python3.6/site-packages/ipykernel_launcher.py:2: SettingWithCopyWarning: \n",
      "A value is trying to be set on a copy of a slice from a DataFrame\n",
      "\n",
      "See the caveats in the documentation: http://pandas.pydata.org/pandas-docs/stable/user_guide/indexing.html#returning-a-view-versus-a-copy\n",
      "  \n"
     ]
    },
    {
     "name": "stdout",
     "output_type": "stream",
     "text": [
      "Set Sales to 0 if customers are 0\n",
      "Dropped 0-sales rows in df\n"
     ]
    },
    {
     "name": "stderr",
     "output_type": "stream",
     "text": [
      "/home/mirko/git/minicomp-rossman/cleandata.py:50: SettingWithCopyWarning: \n",
      "A value is trying to be set on a copy of a slice from a DataFrame\n",
      "\n",
      "See the caveats in the documentation: http://pandas.pydata.org/pandas-docs/stable/user_guide/indexing.html#returning-a-view-versus-a-copy\n",
      "  df['Open'][i] = 1\n"
     ]
    },
    {
     "name": "stdout",
     "output_type": "stream",
     "text": [
      "Set Open = 1 if Sales > 0\n",
      "Filled school holidays based on state holidays\n",
      "Public Holidays updated\n"
     ]
    },
    {
     "name": "stderr",
     "output_type": "stream",
     "text": [
      "/home/mirko/git/minicomp-rossman/cleandata.py:104: SettingWithCopyWarning: \n",
      "A value is trying to be set on a copy of a slice from a DataFrame\n",
      "\n",
      "See the caveats in the documentation: http://pandas.pydata.org/pandas-docs/stable/user_guide/indexing.html#returning-a-view-versus-a-copy\n",
      "  df['StateHoliday'][i] = row2['StateHoliday'].values[0]\n"
     ]
    },
    {
     "name": "stdout",
     "output_type": "stream",
     "text": [
      "Finished regional stateholidays\n",
      "Finished cleaning remaining stateholidays\n",
      "Adjusted open status of shops according to state holidays\n",
      "Mean customers of test cleaning:758.7492748450405\n",
      "Finished filling in empty customers cells\n",
      "Mean Sales of training set = 6836.722219708965\n",
      "Finished cleaning sales\n",
      "Mean Competition Distance of training set = 5446.105182647453\n",
      "PromoIntervals encoded\n",
      "Store Type Encoded\n",
      "State Holidays Encoded\n",
      "Assortment Type Encoded\n",
      "---Cleaning completed---\n",
      "Dropped last leftovers\n",
      "All done!\n"
     ]
    }
   ],
   "source": [
    "print('Clean Train Data')\n",
    "train = cleanData(train_raw, 'train')\n",
    "\n"
   ]
  },
  {
   "cell_type": "markdown",
   "metadata": {},
   "source": [
    "## Clean Test Data by module cleandata"
   ]
  },
  {
   "cell_type": "markdown",
   "metadata": {
    "jupyter": {
     "source_hidden": true
    }
   },
   "source": [
    "#### Please input the mean calculated values from Train Data into corresponding cells of Clean test Data\n",
    "- Mean customers of test cleaning\n",
    "- Mean Sales of training set\n",
    "- Mean Competition Distance of training set"
   ]
  },
  {
   "cell_type": "code",
   "execution_count": 7,
   "metadata": {},
   "outputs": [
    {
     "name": "stdout",
     "output_type": "stream",
     "text": [
      "Clean Test Data\n",
      "Dropped rows without store-ids\n",
      "Extracted year, month and day from Date\n",
      "Extracted and reset day of week\n"
     ]
    },
    {
     "name": "stderr",
     "output_type": "stream",
     "text": [
      "/home/mirko/anaconda3/envs/dsr/lib/python3.6/site-packages/ipykernel_launcher.py:2: SettingWithCopyWarning: \n",
      "A value is trying to be set on a copy of a slice from a DataFrame\n",
      "\n",
      "See the caveats in the documentation: http://pandas.pydata.org/pandas-docs/stable/user_guide/indexing.html#returning-a-view-versus-a-copy\n",
      "  \n"
     ]
    },
    {
     "name": "stdout",
     "output_type": "stream",
     "text": [
      "Set Sales to 0 if customers are 0\n",
      "Dropped 0-sales rows in df\n",
      "Set Open = 1 if Sales > 0\n",
      "Filled school holidays based on state holidays\n",
      "Public Holidays updated\n",
      "Finished regional stateholidays\n",
      "Finished cleaning remaining stateholidays\n",
      "Adjusted open status of shops according to state holidays\n",
      "Finished filling in empty customers cells\n",
      "Finished cleaning sales\n",
      "PromoIntervals encoded\n",
      "Store Type Encoded\n",
      "State Holidays Encoded\n",
      "Assortment Type Encoded\n",
      "---Cleaning completed---\n",
      "Dropped last leftovers\n",
      "All done!\n"
     ]
    }
   ],
   "source": [
    "print('Clean Test Data')\n",
    "test = cleanData(test_raw, 'test')"
   ]
  },
  {
   "cell_type": "markdown",
   "metadata": {},
   "source": [
    "## Split Data into test and training, label and feature sets"
   ]
  },
  {
   "cell_type": "code",
   "execution_count": 8,
   "metadata": {
    "jupyter": {
     "source_hidden": true
    }
   },
   "outputs": [],
   "source": [
    "X_train = train.drop(['Sales'], axis=1).to_numpy()\n",
    "y_train = train['Sales'].to_numpy()\n",
    "X_test = test.drop(['Sales'], axis=1).to_numpy()\n",
    "y_test = test['Sales'].to_numpy()\n",
    "\n",
    "y_train = np.expand_dims(y_train, axis=1)\n",
    "y_test = np.expand_dims(y_test, axis=1)"
   ]
  },
  {
   "cell_type": "code",
   "execution_count": 9,
   "metadata": {
    "collapsed": true,
    "jupyter": {
     "outputs_hidden": true,
     "source_hidden": true
    }
   },
   "outputs": [
    {
     "data": {
      "text/plain": [
       "((128789, 28), (128789, 1), (32223, 28), (32223, 1))"
      ]
     },
     "execution_count": 9,
     "metadata": {},
     "output_type": "execute_result"
    }
   ],
   "source": [
    "X_train.shape, y_train.shape, X_test.shape, y_test.shape"
   ]
  },
  {
   "cell_type": "markdown",
   "metadata": {},
   "source": [
    "## Metric as defined by the kaggle competition(given)"
   ]
  },
  {
   "cell_type": "code",
   "execution_count": 10,
   "metadata": {},
   "outputs": [],
   "source": [
    "def metric(preds, actuals):\n",
    "    preds = preds.reshape(-1)\n",
    "    actuals = actuals.reshape(-1)\n",
    "    assert preds.shape == actuals.shape\n",
    "    return 100 * np.linalg.norm((actuals - preds) / actuals) / np.sqrt(preds.shape[0])"
   ]
  },
  {
   "cell_type": "markdown",
   "metadata": {},
   "source": [
    "## Define the xgboost model"
   ]
  },
  {
   "cell_type": "code",
   "execution_count": 11,
   "metadata": {},
   "outputs": [],
   "source": [
    "# This is a basic benchmark\n",
    "def model_base(params, X_train, y_train, X_test, y_test, epochs):\n",
    "    dtrain = xgb.DMatrix(X_train, label=y_train)\n",
    "    dtest = xgb.DMatrix(X_test, label=y_test)\n",
    "    bst = xgb.train(params, dtrain, evals=[(dtest, 'Test')], num_boost_round=epochs)\n",
    "    \n",
    "    \n",
    "    \n",
    "    test = xgb.DMatrix(X_test)\n",
    "    y_h_test = bst.predict(test)\n",
    "   \n",
    "    train = xgb.DMatrix(X_train)\n",
    "    y_h_train = bst.predict(train)\n",
    "    \n",
    "    print(y_h_test.shape)\n",
    "    print(y_test.shape)\n",
    "\n",
    "    return (metric(y_h_test, y_test), metric(y_h_train, y_train), bst)"
   ]
  },
  {
   "cell_type": "markdown",
   "metadata": {},
   "source": [
    "## Train the model with given parameters"
   ]
  },
  {
   "cell_type": "code",
   "execution_count": 13,
   "metadata": {
    "collapsed": true,
    "jupyter": {
     "outputs_hidden": true
    }
   },
   "outputs": [
    {
     "name": "stdout",
     "output_type": "stream",
     "text": [
      "learning_rate : 0.1\n",
      "[0]\tTest-mae:3886.03\n",
      "[1]\tTest-mae:2347.24\n",
      "[2]\tTest-mae:1443.37\n",
      "[3]\tTest-mae:943.864\n",
      "[4]\tTest-mae:693.453\n",
      "[5]\tTest-mae:580.336\n",
      "[6]\tTest-mae:523.428\n",
      "[7]\tTest-mae:494.865\n",
      "[8]\tTest-mae:475.488\n",
      "[9]\tTest-mae:459.036\n",
      "[10]\tTest-mae:450.871\n",
      "[11]\tTest-mae:441.144\n",
      "[12]\tTest-mae:430.001\n",
      "[13]\tTest-mae:423.037\n",
      "[14]\tTest-mae:415.235\n",
      "[15]\tTest-mae:408.552\n",
      "[16]\tTest-mae:404.332\n",
      "[17]\tTest-mae:399.476\n",
      "[18]\tTest-mae:395.93\n",
      "[19]\tTest-mae:393.045\n",
      "[20]\tTest-mae:389.296\n",
      "[21]\tTest-mae:387.181\n",
      "[22]\tTest-mae:384.779\n",
      "[23]\tTest-mae:382.774\n",
      "[24]\tTest-mae:381.142\n",
      "[25]\tTest-mae:379.374\n",
      "[26]\tTest-mae:377.923\n",
      "[27]\tTest-mae:376.634\n",
      "[28]\tTest-mae:375.434\n",
      "[29]\tTest-mae:374.389\n",
      "[30]\tTest-mae:373.475\n",
      "[31]\tTest-mae:372.609\n",
      "[32]\tTest-mae:371.828\n",
      "[33]\tTest-mae:371.207\n",
      "[34]\tTest-mae:370.417\n",
      "[35]\tTest-mae:369.596\n",
      "[36]\tTest-mae:368.962\n",
      "[37]\tTest-mae:368.403\n",
      "[38]\tTest-mae:368.003\n",
      "[39]\tTest-mae:367.501\n",
      "[40]\tTest-mae:366.968\n",
      "[41]\tTest-mae:366.397\n",
      "[42]\tTest-mae:365.846\n",
      "[43]\tTest-mae:365.483\n",
      "[44]\tTest-mae:365.011\n",
      "[45]\tTest-mae:364.558\n",
      "[46]\tTest-mae:364.135\n",
      "[47]\tTest-mae:363.767\n",
      "[48]\tTest-mae:363.498\n",
      "[49]\tTest-mae:363.155\n",
      "[50]\tTest-mae:362.86\n",
      "[51]\tTest-mae:362.581\n",
      "[52]\tTest-mae:362.273\n",
      "[53]\tTest-mae:361.921\n",
      "[54]\tTest-mae:361.715\n",
      "[55]\tTest-mae:361.443\n",
      "[56]\tTest-mae:361.199\n",
      "[57]\tTest-mae:360.896\n",
      "[58]\tTest-mae:360.615\n",
      "[59]\tTest-mae:360.396\n",
      "[60]\tTest-mae:360.174\n",
      "[61]\tTest-mae:359.93\n",
      "[62]\tTest-mae:359.715\n",
      "[63]\tTest-mae:359.523\n",
      "[64]\tTest-mae:359.366\n",
      "[65]\tTest-mae:359.209\n",
      "[66]\tTest-mae:359.099\n",
      "[67]\tTest-mae:358.96\n",
      "[68]\tTest-mae:358.716\n",
      "[69]\tTest-mae:358.617\n",
      "[70]\tTest-mae:358.46\n",
      "[71]\tTest-mae:358.31\n",
      "[72]\tTest-mae:358.095\n",
      "[73]\tTest-mae:357.969\n",
      "[74]\tTest-mae:357.918\n",
      "[75]\tTest-mae:357.817\n",
      "[76]\tTest-mae:357.712\n",
      "[77]\tTest-mae:357.537\n",
      "[78]\tTest-mae:357.45\n",
      "[79]\tTest-mae:357.342\n",
      "[80]\tTest-mae:357.244\n",
      "[81]\tTest-mae:357.12\n",
      "[82]\tTest-mae:356.999\n",
      "[83]\tTest-mae:356.887\n",
      "[84]\tTest-mae:356.838\n",
      "[85]\tTest-mae:356.761\n",
      "[86]\tTest-mae:356.698\n",
      "[87]\tTest-mae:356.6\n",
      "[88]\tTest-mae:356.484\n",
      "[89]\tTest-mae:356.377\n",
      "[90]\tTest-mae:356.259\n",
      "[91]\tTest-mae:356.174\n",
      "[92]\tTest-mae:356.084\n",
      "[93]\tTest-mae:355.985\n",
      "[94]\tTest-mae:355.882\n",
      "[95]\tTest-mae:355.829\n",
      "[96]\tTest-mae:355.8\n",
      "[97]\tTest-mae:355.764\n",
      "[98]\tTest-mae:355.702\n",
      "[99]\tTest-mae:355.681\n",
      "(32223,)\n",
      "(32223, 1)\n",
      "Test result:  11.472624806313865\n",
      "Train result:  6.392977709066175\n"
     ]
    }
   ],
   "source": [
    "# This is a basic benchmark with tuned with max_depth set to 9, 'min_child_weight' : 1, 'gamma' : 0, learning_rate : 0.4, subsample: 0.9\n",
    "\n",
    "epochs = 100\n",
    "#x_axis =np.arange(0, 11, 1)\n",
    "#train_axis= np.zeros_like(x_axis)\n",
    "#train_axis.astype(float)\n",
    "#test_axis=np.zeros_like(x_axis)\n",
    "#test_axis.astype(float)\n",
    "i=0\n",
    "\n",
    "for learning_rate in range(1,2,1):\n",
    "    \n",
    "    print('learning_rate :',learning_rate/10)  \n",
    "    \n",
    "    params = {\n",
    "   'booster' : 'gbtree',\n",
    "   'colsample_bynode': 0.8,\n",
    "   'learning_rate': 0.4,\n",
    "   'max_depth': 9,\n",
    "   'num_parallel_tree': 30,\n",
    "   'objective': 'reg:squarederror',\n",
    "   #'objective': 'reg:linear',\n",
    "   'subsample': 0.9,\n",
    "   'n_estimators' : 20,\n",
    "   #'as_pandas': True,\n",
    "   'tree_method': 'exact',\n",
    "   'eval_metric': 'mae',\n",
    "   'min_child_weight' : 1,\n",
    "   'gamma' : 0\n",
    "\n",
    "    }\n",
    "\n",
    "    eval_test, eval_train, model = model_base(params, X_train, y_train, X_test, y_test, epochs)\n",
    "    \n",
    "    print('Test result: ', eval_test)\n",
    "    print('Train result: ', eval_train)\n",
    "    #train_axis[i]=eval_train\n",
    "    #test_axis[i] =eval_test\n",
    "    #i+=1\n",
    "    \n",
    "pickle.dump(model, open(\"pima.pickle.dat\", \"wb\"))\n",
    "    \n",
    "#eval_test, eval_train = model_base(params, X_train, y_train, X_test, y_test, epochs)\n"
   ]
  },
  {
   "cell_type": "markdown",
   "metadata": {},
   "source": [
    "# Predicitions"
   ]
  },
  {
   "cell_type": "code",
   "execution_count": 14,
   "metadata": {},
   "outputs": [],
   "source": [
    "pickle.dump(model, open(\"pima.pickle.dat\", \"wb\"))"
   ]
  },
  {
   "cell_type": "code",
   "execution_count": 48,
   "metadata": {},
   "outputs": [],
   "source": [
    "model = pickle.load(open(\"pima.pickle.dat\", \"rb\"))"
   ]
  },
  {
   "cell_type": "code",
   "execution_count": 43,
   "metadata": {},
   "outputs": [],
   "source": [
    "def prediction(score, model):\n",
    "    data = score.join(store_CSV.set_index('Store'), on='Store')\n",
    "    data_clean = cleanData(data, 'test')\n",
    "    feature = data_clean.drop(['Sales'], axis=1).to_numpy()\n",
    "    label = data_clean['Sales'].to_numpy()\n",
    "    dpredict = xgb.DMatrix(feature)\n",
    "    y_h_predict = model.predict(dpredict)\n",
    "    \n",
    "    \n",
    "    return metric(y_h_predict, label)"
   ]
  },
  {
   "cell_type": "code",
   "execution_count": 44,
   "metadata": {},
   "outputs": [
    {
     "name": "stdout",
     "output_type": "stream",
     "text": [
      "Dropped rows without store-ids\n",
      "Extracted year, month and day from Date\n",
      "Extracted and reset day of week\n"
     ]
    },
    {
     "name": "stderr",
     "output_type": "stream",
     "text": [
      "/home/mirko/anaconda3/envs/dsr/lib/python3.6/site-packages/ipykernel_launcher.py:3: SettingWithCopyWarning: \n",
      "A value is trying to be set on a copy of a slice from a DataFrame\n",
      "\n",
      "See the caveats in the documentation: http://pandas.pydata.org/pandas-docs/stable/user_guide/indexing.html#returning-a-view-versus-a-copy\n",
      "  This is separate from the ipykernel package so we can avoid doing imports until\n"
     ]
    },
    {
     "name": "stdout",
     "output_type": "stream",
     "text": [
      "Set Sales to 0 if customers are 0\n",
      "Dropped 0-sales rows in df\n",
      "Set Open = 1 if Sales > 0\n",
      "Filled school holidays based on state holidays\n",
      "Public Holidays updated\n",
      "Finished regional stateholidays\n",
      "Finished cleaning remaining stateholidays\n",
      "Adjusted open status of shops according to state holidays\n"
     ]
    },
    {
     "name": "stdin",
     "output_type": "stream",
     "text": [
      "Please enter mean customers of test cleaning: 758.7492748450405\n"
     ]
    },
    {
     "name": "stdout",
     "output_type": "stream",
     "text": [
      "Finished filling in empty customers cells\n"
     ]
    },
    {
     "name": "stdin",
     "output_type": "stream",
     "text": [
      "Please enter mean sales of test cleaning: 6836.722219708965\n"
     ]
    },
    {
     "name": "stdout",
     "output_type": "stream",
     "text": [
      "Finish sales\n"
     ]
    },
    {
     "name": "stdin",
     "output_type": "stream",
     "text": [
      "Please enter mean competition distance of test cleaning: 5446.105182647453\n"
     ]
    },
    {
     "name": "stdout",
     "output_type": "stream",
     "text": [
      "PromoIntervals encoded\n",
      "Store Type Encoded\n",
      "State Holidays Encoded\n",
      "Assortment Type Encoded\n",
      "---Cleaning completed---\n",
      "Dropped last leftovers\n",
      "All done!\n"
     ]
    },
    {
     "data": {
      "text/plain": [
       "8.666919973729465"
      ]
     },
     "execution_count": 44,
     "metadata": {},
     "output_type": "execute_result"
    }
   ],
   "source": [
    "prediction(train_CSV, model)"
   ]
  },
  {
   "cell_type": "code",
   "execution_count": null,
   "metadata": {},
   "outputs": [],
   "source": []
  },
  {
   "cell_type": "code",
   "execution_count": null,
   "metadata": {},
   "outputs": [],
   "source": []
  },
  {
   "cell_type": "code",
   "execution_count": null,
   "metadata": {},
   "outputs": [],
   "source": []
  }
 ],
 "metadata": {
  "kernelspec": {
   "display_name": "Python 3",
   "language": "python",
   "name": "python3"
  },
  "language_info": {
   "codemirror_mode": {
    "name": "ipython",
    "version": 3
   },
   "file_extension": ".py",
   "mimetype": "text/x-python",
   "name": "python",
   "nbconvert_exporter": "python",
   "pygments_lexer": "ipython3",
   "version": "3.7.4"
  }
 },
 "nbformat": 4,
 "nbformat_minor": 4
}
