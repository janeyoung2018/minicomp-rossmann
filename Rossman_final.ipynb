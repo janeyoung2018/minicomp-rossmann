{
 "cells": [
  {
   "cell_type": "code",
   "execution_count": 1,
   "metadata": {},
   "outputs": [],
   "source": [
    "import numpy as np\n",
    "import pandas as pd\n",
    "import xgboost as xgb\n",
    "import math\n",
    "import pdb\n",
    "import sklearn as sk\n",
    "from cleandata import cleanData\n",
    "from sklearn.model_selection import train_test_split\n",
    "import pickle"
   ]
  },
  {
   "cell_type": "markdown",
   "metadata": {},
   "source": [
    "## Import Data from CSV"
   ]
  },
  {
   "cell_type": "code",
   "execution_count": 2,
   "metadata": {},
   "outputs": [],
   "source": [
    "store_CSV = pd.read_csv('data/store.csv')\n",
    "test_CSV = pd.read_csv('data/test.csv')"
   ]
  },
  {
   "cell_type": "markdown",
   "metadata": {},
   "source": [
    "## Metric as defined by the kaggle competition(given)"
   ]
  },
  {
   "cell_type": "code",
   "execution_count": 10,
   "metadata": {},
   "outputs": [],
   "source": [
    "def metric(preds, actuals):\n",
    "    preds = preds.reshape(-1)\n",
    "    actuals = actuals.reshape(-1)\n",
    "    assert preds.shape == actuals.shape\n",
    "    return 100 * np.linalg.norm((actuals - preds) / actuals) / np.sqrt(preds.shape[0])"
   ]
  },
  {
   "cell_type": "markdown",
   "metadata": {},
   "source": [
    "# Predicitions"
   ]
  },
  {
   "cell_type": "code",
   "execution_count": 14,
   "metadata": {},
   "outputs": [],
   "source": [
    "pickle.dump(model, open(\"pima.pickle.dat\", \"wb\"))"
   ]
  },
  {
   "cell_type": "code",
   "execution_count": 48,
   "metadata": {},
   "outputs": [],
   "source": [
    "model = pickle.load(open(\"pima.pickle.dat\", \"rb\"))"
   ]
  },
  {
   "cell_type": "code",
   "execution_count": 43,
   "metadata": {},
   "outputs": [],
   "source": [
    "def prediction(score, model):\n",
    "    data = score.join(store_CSV.set_index('Store'), on='Store')\n",
    "    data_clean = cleanData(data, 'test')\n",
    "    feature = data_clean.drop(['Sales'], axis=1).to_numpy()\n",
    "    label = data_clean['Sales'].to_numpy()\n",
    "    dpredict = xgb.DMatrix(feature)\n",
    "    y_h_predict = model.predict(dpredict)\n",
    "    \n",
    "    \n",
    "    return metric(y_h_predict, label)"
   ]
  },
  {
   "cell_type": "code",
   "execution_count": 44,
   "metadata": {},
   "outputs": [
    {
     "name": "stdout",
     "output_type": "stream",
     "text": [
      "Dropped rows without store-ids\n",
      "Extracted year, month and day from Date\n",
      "Extracted and reset day of week\n"
     ]
    },
    {
     "name": "stderr",
     "output_type": "stream",
     "text": [
      "/home/mirko/anaconda3/envs/dsr/lib/python3.6/site-packages/ipykernel_launcher.py:3: SettingWithCopyWarning: \n",
      "A value is trying to be set on a copy of a slice from a DataFrame\n",
      "\n",
      "See the caveats in the documentation: http://pandas.pydata.org/pandas-docs/stable/user_guide/indexing.html#returning-a-view-versus-a-copy\n",
      "  This is separate from the ipykernel package so we can avoid doing imports until\n"
     ]
    },
    {
     "name": "stdout",
     "output_type": "stream",
     "text": [
      "Set Sales to 0 if customers are 0\n",
      "Dropped 0-sales rows in df\n",
      "Set Open = 1 if Sales > 0\n",
      "Filled school holidays based on state holidays\n",
      "Public Holidays updated\n",
      "Finished regional stateholidays\n",
      "Finished cleaning remaining stateholidays\n",
      "Adjusted open status of shops according to state holidays\n"
     ]
    },
    {
     "name": "stdin",
     "output_type": "stream",
     "text": [
      "Please enter mean customers of test cleaning: 758.7492748450405\n"
     ]
    },
    {
     "name": "stdout",
     "output_type": "stream",
     "text": [
      "Finished filling in empty customers cells\n"
     ]
    },
    {
     "name": "stdin",
     "output_type": "stream",
     "text": [
      "Please enter mean sales of test cleaning: 6836.722219708965\n"
     ]
    },
    {
     "name": "stdout",
     "output_type": "stream",
     "text": [
      "Finish sales\n"
     ]
    },
    {
     "name": "stdin",
     "output_type": "stream",
     "text": [
      "Please enter mean competition distance of test cleaning: 5446.105182647453\n"
     ]
    },
    {
     "name": "stdout",
     "output_type": "stream",
     "text": [
      "PromoIntervals encoded\n",
      "Store Type Encoded\n",
      "State Holidays Encoded\n",
      "Assortment Type Encoded\n",
      "---Cleaning completed---\n",
      "Dropped last leftovers\n",
      "All done!\n"
     ]
    },
    {
     "data": {
      "text/plain": [
       "8.666919973729465"
      ]
     },
     "execution_count": 44,
     "metadata": {},
     "output_type": "execute_result"
    }
   ],
   "source": [
    "prediction(test_CSV, model)"
   ]
  }
 ],
 "metadata": {
  "kernelspec": {
   "display_name": "Python 3",
   "language": "python",
   "name": "python3"
  },
  "language_info": {
   "codemirror_mode": {
    "name": "ipython",
    "version": 3
   },
   "file_extension": ".py",
   "mimetype": "text/x-python",
   "name": "python",
   "nbconvert_exporter": "python",
   "pygments_lexer": "ipython3",
   "version": "3.7.4"
  }
 },
 "nbformat": 4,
 "nbformat_minor": 4
}
