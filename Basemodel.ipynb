{
 "cells": [
  {
   "cell_type": "code",
   "execution_count": 1,
   "metadata": {},
   "outputs": [],
   "source": [
    "import numpy as np\n",
    "import pandas as pd\n",
    "import xgboost as xgb\n",
    "import math\n",
    "import pdb\n",
    "import sklearn as sk\n",
    "from cleandata import cleanData\n",
    "from sklearn.model_selection import train_test_split"
   ]
  },
  {
   "cell_type": "code",
   "execution_count": 2,
   "metadata": {},
   "outputs": [],
   "source": [
    "store_CSV = pd.read_csv('data/store.csv')\n",
    "train_CSV = pd.read_csv('data/train.csv', low_memory=False)"
   ]
  },
  {
   "cell_type": "code",
   "execution_count": 3,
   "metadata": {},
   "outputs": [],
   "source": [
    "data = train_CSV.join(store_CSV.set_index('Store'), on='Store')"
   ]
  },
  {
   "cell_type": "code",
   "execution_count": 4,
   "metadata": {},
   "outputs": [],
   "source": [
    "train_raw, test_raw = train_test_split(data, test_size=0.2, random_state=42)"
   ]
  },
  {
   "cell_type": "code",
   "execution_count": 5,
   "metadata": {},
   "outputs": [
    {
     "data": {
      "text/plain": [
       "((510219, 18), (127555, 18))"
      ]
     },
     "execution_count": 5,
     "metadata": {},
     "output_type": "execute_result"
    }
   ],
   "source": [
    "train_raw.shape, test_raw.shape"
   ]
  },
  {
   "cell_type": "code",
   "execution_count": 6,
   "metadata": {
    "collapsed": true,
    "jupyter": {
     "outputs_hidden": true
    }
   },
   "outputs": [
    {
     "name": "stdout",
     "output_type": "stream",
     "text": [
      "Clean Train Data\n",
      "Dropped rows without store-ids\n"
     ]
    },
    {
     "name": "stderr",
     "output_type": "stream",
     "text": [
      "/home/mirko/anaconda3/envs/dsr/lib/python3.6/site-packages/pandas/core/indexing.py:376: SettingWithCopyWarning: \n",
      "A value is trying to be set on a copy of a slice from a DataFrame.\n",
      "Try using .loc[row_indexer,col_indexer] = value instead\n",
      "\n",
      "See the caveats in the documentation: http://pandas.pydata.org/pandas-docs/stable/user_guide/indexing.html#returning-a-view-versus-a-copy\n",
      "  self.obj[key] = _infer_fill_value(value)\n",
      "/home/mirko/anaconda3/envs/dsr/lib/python3.6/site-packages/pandas/core/indexing.py:494: SettingWithCopyWarning: \n",
      "A value is trying to be set on a copy of a slice from a DataFrame.\n",
      "Try using .loc[row_indexer,col_indexer] = value instead\n",
      "\n",
      "See the caveats in the documentation: http://pandas.pydata.org/pandas-docs/stable/user_guide/indexing.html#returning-a-view-versus-a-copy\n",
      "  self.obj[item] = s\n"
     ]
    },
    {
     "name": "stdout",
     "output_type": "stream",
     "text": [
      "Extracted year, month and day from Date\n",
      "Extracted and reset day of week\n"
     ]
    },
    {
     "name": "stderr",
     "output_type": "stream",
     "text": [
      "/home/mirko/git/minicomp-rossman/cleandata.py:36: SettingWithCopyWarning: \n",
      "A value is trying to be set on a copy of a slice from a DataFrame\n",
      "\n",
      "See the caveats in the documentation: http://pandas.pydata.org/pandas-docs/stable/user_guide/indexing.html#returning-a-view-versus-a-copy\n",
      "  df['Sales'][i] = 0\n",
      "/home/mirko/anaconda3/envs/dsr/lib/python3.6/site-packages/ipykernel_launcher.py:2: SettingWithCopyWarning: \n",
      "A value is trying to be set on a copy of a slice from a DataFrame\n",
      "\n",
      "See the caveats in the documentation: http://pandas.pydata.org/pandas-docs/stable/user_guide/indexing.html#returning-a-view-versus-a-copy\n",
      "  \n"
     ]
    },
    {
     "name": "stdout",
     "output_type": "stream",
     "text": [
      "Set Sales to 0 if customers are 0\n",
      "Dropped 0-sales rows in df\n"
     ]
    },
    {
     "name": "stderr",
     "output_type": "stream",
     "text": [
      "/home/mirko/git/minicomp-rossman/cleandata.py:50: SettingWithCopyWarning: \n",
      "A value is trying to be set on a copy of a slice from a DataFrame\n",
      "\n",
      "See the caveats in the documentation: http://pandas.pydata.org/pandas-docs/stable/user_guide/indexing.html#returning-a-view-versus-a-copy\n",
      "  df['Open'][i] = 1\n"
     ]
    },
    {
     "name": "stdout",
     "output_type": "stream",
     "text": [
      "Set Open = 1 if Sales > 0\n",
      "Filled school holidays based on state holidays\n",
      "Public Holidays updated\n"
     ]
    },
    {
     "name": "stderr",
     "output_type": "stream",
     "text": [
      "/home/mirko/git/minicomp-rossman/cleandata.py:104: SettingWithCopyWarning: \n",
      "A value is trying to be set on a copy of a slice from a DataFrame\n",
      "\n",
      "See the caveats in the documentation: http://pandas.pydata.org/pandas-docs/stable/user_guide/indexing.html#returning-a-view-versus-a-copy\n",
      "  df['StateHoliday'][i] = row2['StateHoliday'].values[0]\n"
     ]
    },
    {
     "name": "stdout",
     "output_type": "stream",
     "text": [
      "Finished regional stateholidays\n",
      "finished remaining stateholidays\n",
      "Adjusted open status of shops according to state holidays\n",
      "Mean customers of test cleaning:758.7492748450405\n",
      "Finished filling in empty customers cells\n",
      "Mean Sales of training set = 6836.722219708965\n",
      "Finish sales\n",
      "Mean Competition Distance of training set = 5446.105182647453\n",
      "PromoIntervals encoded\n",
      "Store Type Encoded\n",
      "State Holidays Encoded\n",
      "Assortment Type Encoded\n",
      "---Cleaning completed---\n",
      "Dropped last leftovers\n",
      "All done!\n"
     ]
    }
   ],
   "source": [
    "print('Clean Train Data')\n",
    "train = cleanData(train_raw, 'train')"
   ]
  },
  {
   "cell_type": "markdown",
   "metadata": {},
   "source": [
    "### Provisional Data for your test data cleaning\n",
    "Mean Customers = 758.7492748450405 /\n",
    "Mean Sales = 6836.722219708965 /\n",
    "Mean Competition Distance = 5446.105182647453 /"
   ]
  },
  {
   "cell_type": "code",
   "execution_count": null,
   "metadata": {},
   "outputs": [],
   "source": [
    "print('Clean Test Data')\n",
    "test = cleanData(test_raw, 'test')"
   ]
  },
  {
   "cell_type": "code",
   "execution_count": 8,
   "metadata": {},
   "outputs": [],
   "source": [
    "#Defining targets and labels\n",
    "X_train = train.drop(['Sales'], axis=1).to_numpy()\n",
    "y_train = train['Sales'].to_numpy()\n",
    "X_test = test.drop(['Sales'], axis=1).to_numpy()\n",
    "y_test = test['Sales'].to_numpy()\n",
    "\n",
    "y_train = np.expand_dims(y_train, axis=1)\n",
    "y_test = np.expand_dims(y_test, axis=1)"
   ]
  },
  {
   "cell_type": "code",
   "execution_count": 9,
   "metadata": {},
   "outputs": [
    {
     "data": {
      "text/plain": [
       "((410231, 29), (410231, 1), (102508, 29), (102508, 1))"
      ]
     },
     "execution_count": 9,
     "metadata": {},
     "output_type": "execute_result"
    }
   ],
   "source": [
    "#Checking shapes\n",
    "X_train.shape, y_train.shape, X_test.shape, y_test.shape"
   ]
  },
  {
   "cell_type": "code",
   "execution_count": 10,
   "metadata": {},
   "outputs": [],
   "source": [
    "#Setting our scoring function\n",
    "def metric(preds, actuals):\n",
    "    preds = preds.reshape(-1)\n",
    "    actuals = actuals.reshape(-1)\n",
    "    assert preds.shape == actuals.shape\n",
    "    return 100 * np.linalg.norm((actuals - preds) / actuals) / np.sqrt(preds.shape[0])"
   ]
  },
  {
   "cell_type": "code",
   "execution_count": 11,
   "metadata": {},
   "outputs": [],
   "source": [
    "# This is a basic benchmark\n",
    "def model_base(params, X_train, y_train, X_test, y_test, epochs):\n",
    "    dtrain = xgb.DMatrix(X_train, label=y_train)\n",
    "    dtest = xgb.DMatrix(X_test, label=y_test)\n",
    "    bst = xgb.train(params, dtrain, evals=[(dtest, 'Test')], num_boost_round=epochs)\n",
    "    \n",
    "    \n",
    "    \n",
    "    test = xgb.DMatrix(X_test)\n",
    "    y_h_test = bst.predict(test)\n",
    "   \n",
    "    train = xgb.DMatrix(X_train)\n",
    "    y_h_train = bst.predict(train)\n",
    "    \n",
    "    print(y_h_test.shape)\n",
    "    print(y_test.shape)\n",
    "\n",
    "    return (metric(y_h_test, y_test), metric(y_h_train, y_train))"
   ]
  },
  {
   "cell_type": "code",
   "execution_count": 12,
   "metadata": {},
   "outputs": [
    {
     "name": "stdout",
     "output_type": "stream",
     "text": [
      "num_parallel_tree : 30\n",
      "[0]\tTest-mae:4109.73\n",
      "[1]\tTest-mae:2485.28\n",
      "[2]\tTest-mae:1550.02\n",
      "[3]\tTest-mae:1065.56\n",
      "[4]\tTest-mae:846.452\n",
      "[5]\tTest-mae:738.419\n",
      "[6]\tTest-mae:694.108\n",
      "[7]\tTest-mae:664.636\n",
      "[8]\tTest-mae:645.997\n",
      "[9]\tTest-mae:621.112\n",
      "[10]\tTest-mae:609.954\n",
      "[11]\tTest-mae:599.942\n",
      "[12]\tTest-mae:586.579\n",
      "[13]\tTest-mae:575.304\n",
      "[14]\tTest-mae:566.449\n",
      "[15]\tTest-mae:544.624\n",
      "[16]\tTest-mae:538.974\n",
      "[17]\tTest-mae:526.263\n",
      "[18]\tTest-mae:520.123\n",
      "[19]\tTest-mae:512.071\n",
      "[20]\tTest-mae:503.745\n",
      "[21]\tTest-mae:494.377\n",
      "[22]\tTest-mae:486.361\n",
      "[23]\tTest-mae:479.891\n",
      "[24]\tTest-mae:473.487\n",
      "[25]\tTest-mae:466.642\n",
      "[26]\tTest-mae:461.188\n",
      "[27]\tTest-mae:455.806\n",
      "[28]\tTest-mae:452.945\n",
      "[29]\tTest-mae:448.831\n",
      "[30]\tTest-mae:445.602\n",
      "[31]\tTest-mae:443.056\n",
      "[32]\tTest-mae:439.431\n",
      "[33]\tTest-mae:435.849\n",
      "[34]\tTest-mae:433.38\n",
      "[35]\tTest-mae:430.695\n",
      "[36]\tTest-mae:428.022\n",
      "[37]\tTest-mae:425.785\n",
      "[38]\tTest-mae:423.769\n",
      "[39]\tTest-mae:421.381\n",
      "[40]\tTest-mae:418.856\n",
      "[41]\tTest-mae:417.122\n",
      "[42]\tTest-mae:415.718\n",
      "[43]\tTest-mae:414.342\n",
      "[44]\tTest-mae:413.338\n",
      "[45]\tTest-mae:411.777\n",
      "[46]\tTest-mae:410.036\n",
      "[47]\tTest-mae:408.561\n",
      "[48]\tTest-mae:407.27\n",
      "[49]\tTest-mae:406.039\n",
      "(102508,)\n",
      "(102508, 1)\n",
      "Test result:  11.48741680621948\n",
      "Train result:  10.283350934463169\n"
     ]
    }
   ],
   "source": [
    "# This is a basic benchmark with tuned with max_depth set to 9, 'min_child_weight' : 1, 'gamma' : 0, learning_rate : 0.4, subsample: 0.9\n",
    "\n",
    "epochs = 50\n",
    "x_axis =np.arange(6, 10, 1)\n",
    "train_axis= np.zeros_like(x_axis)\n",
    "test_axis=np.zeros_like(x_axis)\n",
    "i=0\n",
    "\n",
    "for num_parallel_tree in range(30,31,1):\n",
    "    \n",
    "    print('num_parallel_tree :',num_parallel_tree)  \n",
    "    \n",
    "    params = {\n",
    "   'booster' : 'gbtree',\n",
    "   'colsample_bynode': 0.8,\n",
    "   'learning_rate': 0.4,\n",
    "   'max_depth': 9,\n",
    "   'num_parallel_tree': num_parallel_tree,\n",
    "   'objective': 'reg:squarederror',\n",
    "   #'objective': 'reg:linear',\n",
    "   'subsample': 0.9,\n",
    "   'n_estimators' : 20,\n",
    "   #'as_pandas': True,\n",
    "   'tree_method': 'exact',\n",
    "   'eval_metric': 'mae',\n",
    "   'min_child_weight' : 1,\n",
    "   'gamma' : 0\n",
    "\n",
    "    }\n",
    "\n",
    "    eval_test, eval_train = model_base(params, X_train, y_train, X_test, y_test, epochs)\n",
    "    \n",
    "    print('Test result: ', eval_test)\n",
    "    print('Train result: ', eval_train)\n",
    "    #train_axis[i]=eval_train\n",
    "    #test_axis[i] =eval_test\n",
    "    #i+=1\n",
    "    \n",
    "    \n",
    "#eval_test, eval_train = model_base(params, X_train, y_train, X_test, y_test, epochs)\n"
   ]
  }
 ],
 "metadata": {
  "kernelspec": {
   "display_name": "Python 3",
   "language": "python",
   "name": "python3"
  },
  "language_info": {
   "codemirror_mode": {
    "name": "ipython",
    "version": 3
   },
   "file_extension": ".py",
   "mimetype": "text/x-python",
   "name": "python",
   "nbconvert_exporter": "python",
   "pygments_lexer": "ipython3",
   "version": "3.7.4"
  }
 },
 "nbformat": 4,
 "nbformat_minor": 4
}
